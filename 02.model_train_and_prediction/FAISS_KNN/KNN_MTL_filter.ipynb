{
 "cells": [
  {
   "cell_type": "code",
   "execution_count": 1,
   "metadata": {},
   "outputs": [],
   "source": [
    "import pandas as pd\n",
    "import numpy as np\n",
    "import faiss\n",
    "import joblib\n",
    "from rdkit import Chem\n",
    "from rdkit.Chem import AllChem\n"
   ]
  },
  {
   "cell_type": "code",
   "execution_count": 5,
   "metadata": {},
   "outputs": [],
   "source": [
    "# **Step 1: Convert SMILES to ECFP fingerprints**\n",
    "def smiles_to_ecfp(smiles_list, radius=2, n_bits=2048):\n",
    "    \"\"\"Convert a list of SMILES strings to ECFP fingerprints.\"\"\"\n",
    "    ecfp_features = []\n",
    "    for smi in smiles_list:\n",
    "        mol = Chem.MolFromSmiles(smi)\n",
    "        if mol:\n",
    "            fp = AllChem.GetMorganFingerprintAsBitVect(mol, radius, nBits=n_bits)\n",
    "            ecfp_features.append(list(fp))\n",
    "        else:\n",
    "            ecfp_features.append([0] * n_bits)  # Fill with zeros if parsing fails\n",
    "    return np.array(ecfp_features)"
   ]
  },
  {
   "cell_type": "code",
   "execution_count": 3,
   "metadata": {},
   "outputs": [],
   "source": [
    "# **Step 2: Load Parquet data**\n",
    "def load_dataset(train_file):\n",
    "    \"\"\"Load a single Parquet file and convert it into ECFP features.\"\"\"\n",
    "    print(f\"Loading {train_file}...\")\n",
    "    # Read the entire Parquet file\n",
    "    df = pd.read_parquet(train_file)\n",
    "    \n",
    "    # **Extract X (SMILES only)**\n",
    "    smiles_list = df.iloc[:, 0].tolist()  # First column is 'smiles'\n",
    "    X = smiles_to_ecfp(smiles_list, n_bits=2048)  # Generate ECFP2048 as the only features\n",
    "    \n",
    "    # **Extract y (target values)**\n",
    "    y = df.iloc[:, 1:].values.astype(np.float32)  # All remaining columns are targets\n",
    "    \n",
    "    return X, y\n"
   ]
  },
  {
   "cell_type": "code",
   "execution_count": 4,
   "metadata": {},
   "outputs": [],
   "source": [
    "# **Step 3: Train FAISS KNN index**\n",
    "def train_faiss_knn(X_train, y_train, index_file=\"faiss_knn.index\", y_file=\"faiss_y_train.pkl\"):\n",
    "    \"\"\"Create and store a FAISS index.\"\"\"\n",
    "    d = X_train.shape[1]  # Get feature dimension\n",
    "    index = faiss.IndexFlatL2(d)  # Use L2 (Euclidean) distance\n",
    "    \n",
    "    print(\"Training FAISS index...\")\n",
    "    index.add(X_train)  # Add training data to the FAISS index\n",
    "    \n",
    "    # **Save index**\n",
    "    faiss.write_index(index, index_file)\n",
    "    joblib.dump(y_train, y_file)  # Save target values\n",
    "    print(f\"FAISS index saved to {index_file} and {y_file}\")\n"
   ]
  },
  {
   "cell_type": "code",
   "execution_count": 8,
   "metadata": {},
   "outputs": [],
   "source": [
    "# **Step 4: Use KNN for prediction**\n",
    "def knn_predict(X_test, k=5, index_file=\"../data/models/KNN_Filter/KNN_F_MTL/faiss_knn.index\", y_file=\"../data/models/KNN_Filter/KNN_F_MTL/faiss_y_train.pkl\"):\n",
    "    \"\"\"Perform prediction using FAISS KNN.\"\"\"\n",
    "    index = faiss.read_index(index_file)  # Load FAISS index\n",
    "    y_train = joblib.load(y_file)  # Load stored target values\n",
    "    \n",
    "    distances, indices = index.search(X_test, k)  # Find the k nearest neighbors\n",
    "    y_pred = np.mean(y_train[indices], axis=1)  # Compute the mean of neighbors' target values\n",
    "    \n",
    "    return y_pred\n",
    "\n"
   ]
  },
  {
   "cell_type": "code",
   "execution_count": 9,
   "metadata": {},
   "outputs": [
    {
     "name": "stdout",
     "output_type": "stream",
     "text": [
      "Loading ../data/raw_filter_20/train_filter_2.parquet...\n",
      "Training FAISS index...\n",
      "FAISS index saved to faiss_knn.index and faiss_y_train.pkl\n"
     ]
    }
   ],
   "source": [
    "# **Step 5: Run**\n",
    "if __name__ == \"__main__\":\n",
    "    # Specify the single Parquet file\n",
    "    train_file = \"../data/raw_filter_20/train_filter_2.parquet\"  # Update this path\n",
    "\n",
    "    # **Loading dataset**\n",
    "    X_train, y_train = load_dataset(train_file)\n",
    "\n",
    "    # Ensure X_train is float32 and has the correct shape\n",
    "    X_train = X_train.astype(np.float32)\n",
    "    X_train = X_train.reshape(-1, X_train.shape[1])\n",
    "\n",
    "    # Train FAISS KNN index\n",
    "    train_faiss_knn(X_train, y_train)"
   ]
  },
  {
   "cell_type": "code",
   "execution_count": 3,
   "metadata": {},
   "outputs": [],
   "source": [
    "def load_test_set(test_file):\n",
    "    \"\"\"Load a Parquet file and convert SMILES to ECFP features.\"\"\"\n",
    "    print(f\"Loading test set from {test_file}...\")\n",
    "    # Read the Parquet file\n",
    "    chunk = pd.read_parquet(test_file)\n",
    "    \n",
    "    # Extract SMILES and generate ECFP features\n",
    "    smiles_list = chunk.iloc[:, 0].tolist()  # First column is 'smiles'\n",
    "    X_test = smiles_to_ecfp(smiles_list, n_bits=2048)  # 2048 dimensions\n",
    "    \n",
    "    # Ensure float32 for FAISS compatibility\n",
    "    X_test = X_test.astype(np.float32)\n",
    "    \n",
    "    print(\"X_test shape:\", X_test.shape)  # Debugging info\n",
    "    return X_test"
   ]
  },
  {
   "cell_type": "code",
   "execution_count": 6,
   "metadata": {},
   "outputs": [
    {
     "name": "stdout",
     "output_type": "stream",
     "text": [
      "Loading test set from ../data/raw_filter_20/test_filter_2.parquet...\n",
      "X_test shape: (72230, 2048)\n"
     ]
    }
   ],
   "source": [
    "# **加载测试数据集 x_test**\n",
    "x_test = load_test_set(\"../data/raw_filter_20/test_filter_2.parquet\")  "
   ]
  },
  {
   "cell_type": "code",
   "execution_count": 18,
   "metadata": {},
   "outputs": [],
   "source": [
    "y_pred = knn_predict(x_test, k=11)"
   ]
  },
  {
   "cell_type": "code",
   "execution_count": 20,
   "metadata": {},
   "outputs": [],
   "source": [
    "x_test = x_test.astype(np.float32)"
   ]
  },
  {
   "cell_type": "code",
   "execution_count": 21,
   "metadata": {},
   "outputs": [
    {
     "name": "stdout",
     "output_type": "stream",
     "text": [
      "     0    1    2    3         4    5    6    7    8    9  ...  3095  3096  \\\n",
      "0  0.0  0.0  0.0  0.0  0.000000  0.0  0.0  0.0  0.0  0.0  ...   0.0   0.0   \n",
      "1  0.0  0.0  0.0  0.0  0.000000  0.0  0.0  0.0  0.0  0.0  ...   0.0   0.0   \n",
      "2  0.0  0.0  0.0  0.0  0.880909  0.0  0.0  0.0  0.0  0.0  ...   0.0   0.0   \n",
      "3  0.0  0.0  0.0  0.0  0.000000  0.0  0.0  0.0  0.0  0.0  ...   0.0   0.0   \n",
      "4  0.0  0.0  0.0  0.0  0.000000  0.0  0.0  0.0  0.0  0.0  ...   0.0   0.0   \n",
      "\n",
      "   3097  3098  3099  3100  3101  3102  3103  3104  \n",
      "0   0.0   0.0   0.0   0.0   0.0   0.0   0.0   0.0  \n",
      "1   0.0   0.0   0.0   0.0   0.0   0.0   0.0   0.0  \n",
      "2   0.0   0.0   0.0   0.0   0.0   0.0   0.0   0.0  \n",
      "3   0.0   0.0   0.0   0.0   0.0   0.0   0.0   0.0  \n",
      "4   0.0   0.0   0.0   0.0   0.0   0.0   0.0   0.0  \n",
      "\n",
      "[5 rows x 3105 columns]\n"
     ]
    }
   ],
   "source": [
    "df_pred = pd.DataFrame(y_pred)\n",
    "df_pred.columns = [f\"{i}\" for i in range(df_pred.shape[1])]\n",
    "print(df_pred.head())  \n"
   ]
  },
  {
   "cell_type": "code",
   "execution_count": 22,
   "metadata": {},
   "outputs": [
    {
     "data": {
      "text/plain": [
       "(72230, 3105)"
      ]
     },
     "execution_count": 22,
     "metadata": {},
     "output_type": "execute_result"
    }
   ],
   "source": [
    "df_pred.shape"
   ]
  },
  {
   "cell_type": "code",
   "execution_count": 13,
   "metadata": {},
   "outputs": [],
   "source": [
    "smiles = pd.read_parquet(\"../data/raw_filter_20/test_filter_2.parquet\")\n"
   ]
  },
  {
   "cell_type": "code",
   "execution_count": 14,
   "metadata": {},
   "outputs": [],
   "source": [
    "smiles1 = smiles[\"smiles\"]"
   ]
  },
  {
   "cell_type": "code",
   "execution_count": 23,
   "metadata": {},
   "outputs": [],
   "source": [
    "df_pred.insert(0, \"smiles\", smiles1)  "
   ]
  },
  {
   "cell_type": "code",
   "execution_count": 24,
   "metadata": {},
   "outputs": [
    {
     "data": {
      "text/html": [
       "<div>\n",
       "<style scoped>\n",
       "    .dataframe tbody tr th:only-of-type {\n",
       "        vertical-align: middle;\n",
       "    }\n",
       "\n",
       "    .dataframe tbody tr th {\n",
       "        vertical-align: top;\n",
       "    }\n",
       "\n",
       "    .dataframe thead th {\n",
       "        text-align: right;\n",
       "    }\n",
       "</style>\n",
       "<table border=\"1\" class=\"dataframe\">\n",
       "  <thead>\n",
       "    <tr style=\"text-align: right;\">\n",
       "      <th></th>\n",
       "      <th>smiles</th>\n",
       "      <th>0</th>\n",
       "      <th>1</th>\n",
       "      <th>2</th>\n",
       "      <th>3</th>\n",
       "      <th>4</th>\n",
       "      <th>5</th>\n",
       "      <th>6</th>\n",
       "      <th>7</th>\n",
       "      <th>8</th>\n",
       "      <th>...</th>\n",
       "      <th>3095</th>\n",
       "      <th>3096</th>\n",
       "      <th>3097</th>\n",
       "      <th>3098</th>\n",
       "      <th>3099</th>\n",
       "      <th>3100</th>\n",
       "      <th>3101</th>\n",
       "      <th>3102</th>\n",
       "      <th>3103</th>\n",
       "      <th>3104</th>\n",
       "    </tr>\n",
       "  </thead>\n",
       "  <tbody>\n",
       "    <tr>\n",
       "      <th>0</th>\n",
       "      <td>CCC(C)[C@@H](NC(=O)[C@@H](NC(=O)CCCCCCCCCCCCCC...</td>\n",
       "      <td>0.0</td>\n",
       "      <td>0.0</td>\n",
       "      <td>0.0</td>\n",
       "      <td>0.0</td>\n",
       "      <td>0.000000</td>\n",
       "      <td>0.0</td>\n",
       "      <td>0.0</td>\n",
       "      <td>0.0</td>\n",
       "      <td>0.0</td>\n",
       "      <td>...</td>\n",
       "      <td>0.0</td>\n",
       "      <td>0.0</td>\n",
       "      <td>0.0</td>\n",
       "      <td>0.0</td>\n",
       "      <td>0.0</td>\n",
       "      <td>0.0</td>\n",
       "      <td>0.0</td>\n",
       "      <td>0.0</td>\n",
       "      <td>0.0</td>\n",
       "      <td>0.0</td>\n",
       "    </tr>\n",
       "    <tr>\n",
       "      <th>1</th>\n",
       "      <td>CC(C)Oc1ccccc1C1C(C(=O)C(C)C)C(=O)C(=O)N1c1ccc...</td>\n",
       "      <td>0.0</td>\n",
       "      <td>0.0</td>\n",
       "      <td>0.0</td>\n",
       "      <td>0.0</td>\n",
       "      <td>0.000000</td>\n",
       "      <td>0.0</td>\n",
       "      <td>0.0</td>\n",
       "      <td>0.0</td>\n",
       "      <td>0.0</td>\n",
       "      <td>...</td>\n",
       "      <td>0.0</td>\n",
       "      <td>0.0</td>\n",
       "      <td>0.0</td>\n",
       "      <td>0.0</td>\n",
       "      <td>0.0</td>\n",
       "      <td>0.0</td>\n",
       "      <td>0.0</td>\n",
       "      <td>0.0</td>\n",
       "      <td>0.0</td>\n",
       "      <td>0.0</td>\n",
       "    </tr>\n",
       "    <tr>\n",
       "      <th>2</th>\n",
       "      <td>CC(=O)O[C@H]1C2=C(C)C(=O)O[C@@]2(O)C[C@@]2(C)[...</td>\n",
       "      <td>0.0</td>\n",
       "      <td>0.0</td>\n",
       "      <td>0.0</td>\n",
       "      <td>0.0</td>\n",
       "      <td>0.880909</td>\n",
       "      <td>0.0</td>\n",
       "      <td>0.0</td>\n",
       "      <td>0.0</td>\n",
       "      <td>0.0</td>\n",
       "      <td>...</td>\n",
       "      <td>0.0</td>\n",
       "      <td>0.0</td>\n",
       "      <td>0.0</td>\n",
       "      <td>0.0</td>\n",
       "      <td>0.0</td>\n",
       "      <td>0.0</td>\n",
       "      <td>0.0</td>\n",
       "      <td>0.0</td>\n",
       "      <td>0.0</td>\n",
       "      <td>0.0</td>\n",
       "    </tr>\n",
       "    <tr>\n",
       "      <th>3</th>\n",
       "      <td>COc1cc2ccc(C(O)(c3cnco3)C(C)C)cc2cc1OC</td>\n",
       "      <td>0.0</td>\n",
       "      <td>0.0</td>\n",
       "      <td>0.0</td>\n",
       "      <td>0.0</td>\n",
       "      <td>0.000000</td>\n",
       "      <td>0.0</td>\n",
       "      <td>0.0</td>\n",
       "      <td>0.0</td>\n",
       "      <td>0.0</td>\n",
       "      <td>...</td>\n",
       "      <td>0.0</td>\n",
       "      <td>0.0</td>\n",
       "      <td>0.0</td>\n",
       "      <td>0.0</td>\n",
       "      <td>0.0</td>\n",
       "      <td>0.0</td>\n",
       "      <td>0.0</td>\n",
       "      <td>0.0</td>\n",
       "      <td>0.0</td>\n",
       "      <td>0.0</td>\n",
       "    </tr>\n",
       "    <tr>\n",
       "      <th>4</th>\n",
       "      <td>COc1ccc(-c2ccc(Cl)c(C(=O)NCCc3ccccc3Cl)c2)nn1</td>\n",
       "      <td>0.0</td>\n",
       "      <td>0.0</td>\n",
       "      <td>0.0</td>\n",
       "      <td>0.0</td>\n",
       "      <td>0.000000</td>\n",
       "      <td>0.0</td>\n",
       "      <td>0.0</td>\n",
       "      <td>0.0</td>\n",
       "      <td>0.0</td>\n",
       "      <td>...</td>\n",
       "      <td>0.0</td>\n",
       "      <td>0.0</td>\n",
       "      <td>0.0</td>\n",
       "      <td>0.0</td>\n",
       "      <td>0.0</td>\n",
       "      <td>0.0</td>\n",
       "      <td>0.0</td>\n",
       "      <td>0.0</td>\n",
       "      <td>0.0</td>\n",
       "      <td>0.0</td>\n",
       "    </tr>\n",
       "  </tbody>\n",
       "</table>\n",
       "<p>5 rows × 3106 columns</p>\n",
       "</div>"
      ],
      "text/plain": [
       "                                              smiles    0    1    2    3  \\\n",
       "0  CCC(C)[C@@H](NC(=O)[C@@H](NC(=O)CCCCCCCCCCCCCC...  0.0  0.0  0.0  0.0   \n",
       "1  CC(C)Oc1ccccc1C1C(C(=O)C(C)C)C(=O)C(=O)N1c1ccc...  0.0  0.0  0.0  0.0   \n",
       "2  CC(=O)O[C@H]1C2=C(C)C(=O)O[C@@]2(O)C[C@@]2(C)[...  0.0  0.0  0.0  0.0   \n",
       "3             COc1cc2ccc(C(O)(c3cnco3)C(C)C)cc2cc1OC  0.0  0.0  0.0  0.0   \n",
       "4      COc1ccc(-c2ccc(Cl)c(C(=O)NCCc3ccccc3Cl)c2)nn1  0.0  0.0  0.0  0.0   \n",
       "\n",
       "          4    5    6    7    8  ...  3095  3096  3097  3098  3099  3100  \\\n",
       "0  0.000000  0.0  0.0  0.0  0.0  ...   0.0   0.0   0.0   0.0   0.0   0.0   \n",
       "1  0.000000  0.0  0.0  0.0  0.0  ...   0.0   0.0   0.0   0.0   0.0   0.0   \n",
       "2  0.880909  0.0  0.0  0.0  0.0  ...   0.0   0.0   0.0   0.0   0.0   0.0   \n",
       "3  0.000000  0.0  0.0  0.0  0.0  ...   0.0   0.0   0.0   0.0   0.0   0.0   \n",
       "4  0.000000  0.0  0.0  0.0  0.0  ...   0.0   0.0   0.0   0.0   0.0   0.0   \n",
       "\n",
       "   3101  3102  3103  3104  \n",
       "0   0.0   0.0   0.0   0.0  \n",
       "1   0.0   0.0   0.0   0.0  \n",
       "2   0.0   0.0   0.0   0.0  \n",
       "3   0.0   0.0   0.0   0.0  \n",
       "4   0.0   0.0   0.0   0.0  \n",
       "\n",
       "[5 rows x 3106 columns]"
      ]
     },
     "execution_count": 24,
     "metadata": {},
     "output_type": "execute_result"
    }
   ],
   "source": [
    "df_pred.head()"
   ]
  },
  {
   "cell_type": "code",
   "execution_count": 25,
   "metadata": {},
   "outputs": [],
   "source": [
    "df_pred.to_parquet('predictions_KNN11_filter.parquet', index=False)"
   ]
  }
 ],
 "metadata": {
  "kernelspec": {
   "display_name": "Python 3",
   "language": "python",
   "name": "python3"
  },
  "language_info": {
   "codemirror_mode": {
    "name": "ipython",
    "version": 3
   },
   "file_extension": ".py",
   "mimetype": "text/x-python",
   "name": "python",
   "nbconvert_exporter": "python",
   "pygments_lexer": "ipython3",
   "version": "3.10.12"
  }
 },
 "nbformat": 4,
 "nbformat_minor": 2
}
