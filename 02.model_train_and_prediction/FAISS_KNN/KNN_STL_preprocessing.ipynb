{
 "cells": [
  {
   "cell_type": "code",
   "execution_count": 1,
   "metadata": {},
   "outputs": [],
   "source": [
    "import pandas as pd\n",
    "import numpy as np\n",
    "import pandas as pd\n",
    "import joblib\n",
    "import faiss\n",
    "from rdkit import Chem\n",
    "from rdkit.Chem import AllChem\n",
    "import os"
   ]
  },
  {
   "cell_type": "code",
   "execution_count": 3,
   "metadata": {},
   "outputs": [],
   "source": [
    "def smiles_to_ecfp(smiles_list, radius=2, n_bits=2048):\n",
    "    \"\"\"Convert a list of SMILES to ECFP fingerprints.\"\"\"\n",
    "    ecfp_features = []\n",
    "    for smi in smiles_list:\n",
    "        mol = Chem.MolFromSmiles(smi)\n",
    "        if mol:\n",
    "            fp = AllChem.GetMorganFingerprintAsBitVect(mol, radius, nBits=n_bits)\n",
    "            ecfp_features.append(np.array(fp, dtype=np.float32))  # 直接转换为 float32\n",
    "        else:\n",
    "            ecfp_features.append(np.zeros(n_bits, dtype=np.float32))  # 确保数据类型一致\n",
    "    \n",
    "    return np.vstack(ecfp_features)  # 确保返回的是 NumPy 数组\n"
   ]
  },
  {
   "cell_type": "code",
   "execution_count": 5,
   "metadata": {},
   "outputs": [],
   "source": [
    "df = pd.read_parquet(\"../data/raw_filter_20/train_filter_2.parquet\")\n",
    "\n",
    "    # Convert SMILES to ECFP**\n",
    "smiles_list = df.iloc[:, 0].tolist()\n",
    "X = smiles_to_ecfp(smiles_list, n_bits=2048) \n"
   ]
  },
  {
   "cell_type": "code",
   "execution_count": 6,
   "metadata": {},
   "outputs": [
    {
     "name": "stdout",
     "output_type": "stream",
     "text": [
      "['CC(=O)O[C@@H]1[C@H](OC(C)=O)[C@@H](CN2C(=O)c3ccccc3C2=O)O[C@H]1n1cnc2c(N)nc(Cl)nc21', 'CC(C)(F)C[C@H](N[C@@H](c1ccc(-c2ccc(S(C)(=O)=O)cc2)cc1)C(F)(F)F)C(=O)NC1CCCN(S(=O)(=O)c2ccccn2)CC1=O', 'CSS/C(CCOC(=O)[C@@H](N)CCCCN)=C(/C)N(C=O)CCCCCCCCCCCCN(C=O)/C(C)=C(/CCOC(=O)[C@@H](N)CCCCN)SSC.Cl.Cl', 'CCCNC(=O)Nc1cc2[nH]nc(OCCOC)c2cn1', 'COc1ccc2[nH]cc(CCNC(=O)c3ccc(OC(F)(F)C(F)F)cc3)c2c1']\n"
     ]
    }
   ],
   "source": [
    "print(smiles_list[:5])"
   ]
  },
  {
   "cell_type": "code",
   "execution_count": null,
   "metadata": {},
   "outputs": [],
   "source": [
    "pd.DataFrame(X).to_parquet('X_train_f_ECFP.parquet', index  = False)"
   ]
  },
  {
   "cell_type": "code",
   "execution_count": 9,
   "metadata": {},
   "outputs": [],
   "source": [
    "df = pd.read_parquet(\"../data/raw_filter_20/test_filter_2.parquet\")\n",
    "\n",
    "    # Convert SMILES to ECFP**\n",
    "smiles_list = df.iloc[:, 0].tolist()\n",
    "X = smiles_to_ecfp(smiles_list, n_bits=2048) "
   ]
  },
  {
   "cell_type": "code",
   "execution_count": 10,
   "metadata": {},
   "outputs": [
    {
     "name": "stdout",
     "output_type": "stream",
     "text": [
      "['CCC(C)[C@@H](NC(=O)[C@@H](NC(=O)CCCCCCCCCCCCCCC(=O)N[C@H](CC(=O)N[C@@H](Cc1ccccc1)C(=O)O)C(N)=O)C(C)O)C(=O)N[C@@H](Cc1ccccc1)C(N)=O', 'CC(C)Oc1ccccc1C1C(C(=O)C(C)C)C(=O)C(=O)N1c1ccc(N2CCCC2)cc1', 'CC(=O)O[C@H]1C2=C(C)C(=O)O[C@@]2(O)C[C@@]2(C)[C@@H]3C[C@@H]3[C@](C)(O)[C@@H]12', 'COc1cc2ccc(C(O)(c3cnco3)C(C)C)cc2cc1OC', 'COc1ccc(-c2ccc(Cl)c(C(=O)NCCc3ccccc3Cl)c2)nn1']\n"
     ]
    }
   ],
   "source": [
    "print(smiles_list[:5])"
   ]
  },
  {
   "cell_type": "code",
   "execution_count": 11,
   "metadata": {},
   "outputs": [],
   "source": [
    "pd.DataFrame(X).to_parquet('X_test_f_ECFP.parquet', index  = False)"
   ]
  },
  {
   "cell_type": "code",
   "execution_count": 12,
   "metadata": {},
   "outputs": [],
   "source": [
    "df['smiles'].to_csv('test_f_smiles.csv', index = False)"
   ]
  },
  {
   "cell_type": "code",
   "execution_count": 20,
   "metadata": {},
   "outputs": [],
   "source": [
    "df0 = pd.read_parquet(\"../data/raw_filter_20/train_filter_2.parquet\")"
   ]
  },
  {
   "cell_type": "markdown",
   "metadata": {},
   "source": [
    "## Split Datasets by col and save them as parquet"
   ]
  },
  {
   "cell_type": "code",
   "execution_count": null,
   "metadata": {},
   "outputs": [
    {
     "name": "stdout",
     "output_type": "stream",
     "text": [
      "加载数据集...\n",
      "保存子数据集 1 到 /home/jovyan/proj-liujing/MolE_Evaluation_Project/data/processed/filter/train_split_1.parquet，列数: 518\n",
      "保存子数据集 2 到 /home/jovyan/proj-liujing/MolE_Evaluation_Project/data/processed/filter/train_split_2.parquet，列数: 518\n",
      "保存子数据集 3 到 /home/jovyan/proj-liujing/MolE_Evaluation_Project/data/processed/filter/train_split_3.parquet，列数: 518\n",
      "保存子数据集 4 到 /home/jovyan/proj-liujing/MolE_Evaluation_Project/data/processed/filter/train_split_4.parquet，列数: 518\n",
      "保存子数据集 5 到 /home/jovyan/proj-liujing/MolE_Evaluation_Project/data/processed/filter/train_split_5.parquet，列数: 518\n",
      "保存子数据集 6 到 /home/jovyan/proj-liujing/MolE_Evaluation_Project/data/processed/filter/train_split_6.parquet，列数: 521\n",
      "\n",
      "数据集拆分完成！\n"
     ]
    }
   ],
   "source": [
    "first_col = df0.columns[0]  \n",
    "target_cols = df0.columns[1:]  \n",
    "\n",
    "num_splits = 6\n",
    "cols_per_split = len(target_cols) // num_splits\n",
    "remainder = len(target_cols) % num_splits\n",
    "output_dir = \"/home/jovyan/proj-liujing/MolE_Evaluation_Project/data/processed/filter\"\n",
    "\n",
    "for i in range(num_splits):\n",
    "    start_idx = i * cols_per_split\n",
    "    end_idx = (i + 1) * cols_per_split if i < num_splits - 1 else len(target_cols)\n",
    "\n",
    "    if i == num_splits - 1:\n",
    "        current_targets = target_cols[start_idx:]\n",
    "    else:\n",
    "        current_targets = target_cols[start_idx:end_idx]\n",
    "\n",
    "    sub_df = df0[[first_col] + list(current_targets)]\n",
    " \n",
    "    output_file = os.path.join(output_dir, f\"train_split_{i+1}.parquet\")\n",
    "    sub_df.to_parquet(output_file)\n",
    "    print(f\"保存子数据集 {i+1} 到 {output_file}，列数: {sub_df.shape[1]}\")\n",
    "\n",
    "print(\"\\n数据集拆分完成！\")"
   ]
  },
  {
   "cell_type": "code",
   "execution_count": 22,
   "metadata": {},
   "outputs": [
    {
     "data": {
      "text/html": [
       "<div>\n",
       "<style scoped>\n",
       "    .dataframe tbody tr th:only-of-type {\n",
       "        vertical-align: middle;\n",
       "    }\n",
       "\n",
       "    .dataframe tbody tr th {\n",
       "        vertical-align: top;\n",
       "    }\n",
       "\n",
       "    .dataframe thead th {\n",
       "        text-align: right;\n",
       "    }\n",
       "</style>\n",
       "<table border=\"1\" class=\"dataframe\">\n",
       "  <thead>\n",
       "    <tr style=\"text-align: right;\">\n",
       "      <th></th>\n",
       "      <th>smiles</th>\n",
       "      <th>517</th>\n",
       "      <th>518</th>\n",
       "      <th>519</th>\n",
       "      <th>520</th>\n",
       "      <th>521</th>\n",
       "      <th>522</th>\n",
       "      <th>523</th>\n",
       "      <th>524</th>\n",
       "      <th>525</th>\n",
       "      <th>...</th>\n",
       "      <th>1024</th>\n",
       "      <th>1025</th>\n",
       "      <th>1026</th>\n",
       "      <th>1027</th>\n",
       "      <th>1028</th>\n",
       "      <th>1029</th>\n",
       "      <th>1030</th>\n",
       "      <th>1031</th>\n",
       "      <th>1032</th>\n",
       "      <th>1033</th>\n",
       "    </tr>\n",
       "  </thead>\n",
       "  <tbody>\n",
       "    <tr>\n",
       "      <th>0</th>\n",
       "      <td>CC(=O)O[C@@H]1[C@H](OC(C)=O)[C@@H](CN2C(=O)c3c...</td>\n",
       "      <td>0.0</td>\n",
       "      <td>0.0</td>\n",
       "      <td>0.0</td>\n",
       "      <td>0.0</td>\n",
       "      <td>0.0</td>\n",
       "      <td>0.0</td>\n",
       "      <td>0.0</td>\n",
       "      <td>0.0</td>\n",
       "      <td>0.0</td>\n",
       "      <td>...</td>\n",
       "      <td>0.0</td>\n",
       "      <td>0.0</td>\n",
       "      <td>0.0</td>\n",
       "      <td>0.0</td>\n",
       "      <td>0.0</td>\n",
       "      <td>0.0</td>\n",
       "      <td>0.0</td>\n",
       "      <td>0.0</td>\n",
       "      <td>0.0</td>\n",
       "      <td>0.0</td>\n",
       "    </tr>\n",
       "    <tr>\n",
       "      <th>1</th>\n",
       "      <td>CC(C)(F)C[C@H](N[C@@H](c1ccc(-c2ccc(S(C)(=O)=O...</td>\n",
       "      <td>0.0</td>\n",
       "      <td>0.0</td>\n",
       "      <td>0.0</td>\n",
       "      <td>0.0</td>\n",
       "      <td>0.0</td>\n",
       "      <td>0.0</td>\n",
       "      <td>0.0</td>\n",
       "      <td>0.0</td>\n",
       "      <td>0.0</td>\n",
       "      <td>...</td>\n",
       "      <td>0.0</td>\n",
       "      <td>0.0</td>\n",
       "      <td>0.0</td>\n",
       "      <td>0.0</td>\n",
       "      <td>0.0</td>\n",
       "      <td>0.0</td>\n",
       "      <td>0.0</td>\n",
       "      <td>0.0</td>\n",
       "      <td>0.0</td>\n",
       "      <td>0.0</td>\n",
       "    </tr>\n",
       "    <tr>\n",
       "      <th>2</th>\n",
       "      <td>CSS/C(CCOC(=O)[C@@H](N)CCCCN)=C(/C)N(C=O)CCCCC...</td>\n",
       "      <td>0.0</td>\n",
       "      <td>0.0</td>\n",
       "      <td>0.0</td>\n",
       "      <td>0.0</td>\n",
       "      <td>0.0</td>\n",
       "      <td>0.0</td>\n",
       "      <td>0.0</td>\n",
       "      <td>0.0</td>\n",
       "      <td>0.0</td>\n",
       "      <td>...</td>\n",
       "      <td>0.0</td>\n",
       "      <td>0.0</td>\n",
       "      <td>0.0</td>\n",
       "      <td>0.0</td>\n",
       "      <td>0.0</td>\n",
       "      <td>0.0</td>\n",
       "      <td>0.0</td>\n",
       "      <td>0.0</td>\n",
       "      <td>0.0</td>\n",
       "      <td>0.0</td>\n",
       "    </tr>\n",
       "    <tr>\n",
       "      <th>3</th>\n",
       "      <td>CCCNC(=O)Nc1cc2[nH]nc(OCCOC)c2cn1</td>\n",
       "      <td>0.0</td>\n",
       "      <td>0.0</td>\n",
       "      <td>0.0</td>\n",
       "      <td>0.0</td>\n",
       "      <td>0.0</td>\n",
       "      <td>0.0</td>\n",
       "      <td>0.0</td>\n",
       "      <td>0.0</td>\n",
       "      <td>0.0</td>\n",
       "      <td>...</td>\n",
       "      <td>0.0</td>\n",
       "      <td>0.0</td>\n",
       "      <td>0.0</td>\n",
       "      <td>0.0</td>\n",
       "      <td>0.0</td>\n",
       "      <td>0.0</td>\n",
       "      <td>0.0</td>\n",
       "      <td>0.0</td>\n",
       "      <td>0.0</td>\n",
       "      <td>0.0</td>\n",
       "    </tr>\n",
       "    <tr>\n",
       "      <th>4</th>\n",
       "      <td>COc1ccc2[nH]cc(CCNC(=O)c3ccc(OC(F)(F)C(F)F)cc3...</td>\n",
       "      <td>0.0</td>\n",
       "      <td>0.0</td>\n",
       "      <td>0.0</td>\n",
       "      <td>0.0</td>\n",
       "      <td>0.0</td>\n",
       "      <td>0.0</td>\n",
       "      <td>0.0</td>\n",
       "      <td>0.0</td>\n",
       "      <td>0.0</td>\n",
       "      <td>...</td>\n",
       "      <td>0.0</td>\n",
       "      <td>0.0</td>\n",
       "      <td>0.0</td>\n",
       "      <td>0.0</td>\n",
       "      <td>0.0</td>\n",
       "      <td>0.0</td>\n",
       "      <td>0.0</td>\n",
       "      <td>0.0</td>\n",
       "      <td>0.0</td>\n",
       "      <td>0.0</td>\n",
       "    </tr>\n",
       "  </tbody>\n",
       "</table>\n",
       "<p>5 rows × 518 columns</p>\n",
       "</div>"
      ],
      "text/plain": [
       "                                              smiles  517  518  519  520  521  \\\n",
       "0  CC(=O)O[C@@H]1[C@H](OC(C)=O)[C@@H](CN2C(=O)c3c...  0.0  0.0  0.0  0.0  0.0   \n",
       "1  CC(C)(F)C[C@H](N[C@@H](c1ccc(-c2ccc(S(C)(=O)=O...  0.0  0.0  0.0  0.0  0.0   \n",
       "2  CSS/C(CCOC(=O)[C@@H](N)CCCCN)=C(/C)N(C=O)CCCCC...  0.0  0.0  0.0  0.0  0.0   \n",
       "3                  CCCNC(=O)Nc1cc2[nH]nc(OCCOC)c2cn1  0.0  0.0  0.0  0.0  0.0   \n",
       "4  COc1ccc2[nH]cc(CCNC(=O)c3ccc(OC(F)(F)C(F)F)cc3...  0.0  0.0  0.0  0.0  0.0   \n",
       "\n",
       "   522  523  524  525  ...  1024  1025  1026  1027  1028  1029  1030  1031  \\\n",
       "0  0.0  0.0  0.0  0.0  ...   0.0   0.0   0.0   0.0   0.0   0.0   0.0   0.0   \n",
       "1  0.0  0.0  0.0  0.0  ...   0.0   0.0   0.0   0.0   0.0   0.0   0.0   0.0   \n",
       "2  0.0  0.0  0.0  0.0  ...   0.0   0.0   0.0   0.0   0.0   0.0   0.0   0.0   \n",
       "3  0.0  0.0  0.0  0.0  ...   0.0   0.0   0.0   0.0   0.0   0.0   0.0   0.0   \n",
       "4  0.0  0.0  0.0  0.0  ...   0.0   0.0   0.0   0.0   0.0   0.0   0.0   0.0   \n",
       "\n",
       "   1032  1033  \n",
       "0   0.0   0.0  \n",
       "1   0.0   0.0  \n",
       "2   0.0   0.0  \n",
       "3   0.0   0.0  \n",
       "4   0.0   0.0  \n",
       "\n",
       "[5 rows x 518 columns]"
      ]
     },
     "execution_count": 22,
     "metadata": {},
     "output_type": "execute_result"
    }
   ],
   "source": [
    "df3 = pd.read_parquet('../data/processed/filter/train_split_2.parquet')\n",
    "df3.head()"
   ]
  },
  {
   "cell_type": "code",
   "execution_count": 23,
   "metadata": {},
   "outputs": [
    {
     "data": {
      "text/plain": [
       "(577840, 518)"
      ]
     },
     "execution_count": 23,
     "metadata": {},
     "output_type": "execute_result"
    }
   ],
   "source": [
    "df3.shape"
   ]
  },
  {
   "cell_type": "code",
   "execution_count": 24,
   "metadata": {},
   "outputs": [
    {
     "data": {
      "text/plain": [
       "(577840, 3106)"
      ]
     },
     "execution_count": 24,
     "metadata": {},
     "output_type": "execute_result"
    }
   ],
   "source": [
    "df0.shape"
   ]
  },
  {
   "cell_type": "code",
   "execution_count": 3,
   "metadata": {},
   "outputs": [],
   "source": [
    "result1 = pd.read_parquet(\"../data/results/predictions_KNN_STL/all_predictions_knn1.parquet\")\n",
    "result2 = pd.read_parquet(\"../data/results/predictions_KNN_STL/all_predictions_knn2.parquet\")\n",
    "result3 = pd.read_parquet(\"../data/results/predictions_KNN_STL/all_predictions_knn3.parquet\")\n",
    "result4 = pd.read_parquet(\"../data/results/predictions_KNN_STL/all_predictions_knn4.parquet\")\n",
    "result5 = pd.read_parquet(\"../data/results/predictions_KNN_STL/all_predictions_knn5.parquet\")\n",
    "result6 = pd.read_parquet(\"../data/results/predictions_KNN_STL/all_predictions_knn6.parquet\")"
   ]
  },
  {
   "cell_type": "code",
   "execution_count": null,
   "metadata": {},
   "outputs": [],
   "source": [
    "\n",
    "dfs = [result1, result2, result3, result4, result5, result6]\n",
    "\n",
    "for i in range(1, len(dfs)):\n",
    "    assert dfs[i]['smiles'].equals(dfs[0]['smiles']), f\"DataFrame {i+1} 的 SMILES 与第一个不匹配\"\n",
    "\n",
    "result = pd.concat([dfs[0][['smiles']]]+ [df.iloc[:, 1:] for df in dfs], axis=1)\n",
    "\n",
    "\n",
    "result.to_parquet(\"combined_dataset.parquet\", index=False)\n",
    "print(\"DONE\", result.shape)"
   ]
  }
 ],
 "metadata": {
  "kernelspec": {
   "display_name": "Python 3",
   "language": "python",
   "name": "python3"
  },
  "language_info": {
   "codemirror_mode": {
    "name": "ipython",
    "version": 3
   },
   "file_extension": ".py",
   "mimetype": "text/x-python",
   "name": "python",
   "nbconvert_exporter": "python",
   "pygments_lexer": "ipython3",
   "version": "3.10.12"
  }
 },
 "nbformat": 4,
 "nbformat_minor": 4
}
