{
 "cells": [
  {
   "cell_type": "code",
   "execution_count": 1,
   "metadata": {},
   "outputs": [],
   "source": [
    "import pandas as pd\n",
    "import numpy as np"
   ]
  },
  {
   "cell_type": "code",
   "execution_count": 2,
   "metadata": {},
   "outputs": [],
   "source": [
    "result1 = pd.read_parquet(\"../data/results/predictions_XGB_filter/predictions_xgbf_1.parquet\")\n",
    "result2 = pd.read_parquet(\"../data/results/predictions_XGB_filter/predictions_xgbf_2.parquet\")\n",
    "result3 = pd.read_parquet(\"../data/results/predictions_XGB_filter/predictions_xgbf_3.parquet\")\n",
    "result4 = pd.read_parquet(\"../data/results/predictions_XGB_filter/predictions_xgbf_4.parquet\")\n",
    "result5 = pd.read_parquet(\"../data/results/predictions_XGB_filter/predictions_xgbf_5.parquet\")\n",
    "result6 = pd.read_parquet(\"../data/results/predictions_XGB_filter/predictions_xgbf_6.parquet\")"
   ]
  },
  {
   "cell_type": "code",
   "execution_count": null,
   "metadata": {},
   "outputs": [],
   "source": [
    "\n",
    "dfs = [result1, result2, result3, result4, result5, result6]\n",
    "\n",
    "for i in range(1, len(dfs)):\n",
    "    assert dfs[i]['smiles'].equals(dfs[0]['smiles']), f\"DataFrame {i+1} 的 SMILES 与第一个不匹配\"\n",
    "\n",
    "result = pd.concat([dfs[0][['smiles']]]+ [df.iloc[:, 1:] for df in dfs], axis=1)\n",
    "\n",
    "result.to_parquet(\"combined_dataset.parquet\", index=False)\n",
    "print(\"Done!\", result.shape)"
   ]
  }
 ],
 "metadata": {
  "kernelspec": {
   "display_name": "Python 3",
   "language": "python",
   "name": "python3"
  },
  "language_info": {
   "codemirror_mode": {
    "name": "ipython",
    "version": 3
   },
   "file_extension": ".py",
   "mimetype": "text/x-python",
   "name": "python",
   "nbconvert_exporter": "python",
   "pygments_lexer": "ipython3",
   "version": "3.10.12"
  }
 },
 "nbformat": 4,
 "nbformat_minor": 2
}
